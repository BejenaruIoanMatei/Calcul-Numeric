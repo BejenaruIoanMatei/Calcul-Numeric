{
 "cells": [
  {
   "cell_type": "markdown",
   "metadata": {},
   "source": [
    "### Cele doua norme\n",
    "- Norma 1: ||A||_1\n",
    "- Norma infinit: ||A||_inf"
   ]
  },
  {
   "cell_type": "code",
   "execution_count": 1,
   "metadata": {},
   "outputs": [],
   "source": [
    "import numpy as np"
   ]
  },
  {
   "cell_type": "code",
   "execution_count": 3,
   "metadata": {},
   "outputs": [],
   "source": [
    "def norma_1(A):\n",
    "    return np.max(np.sum(np.abs(A), axis=0)) # col\n",
    "\n",
    "def norma_infinit(A):\n",
    "    return np.max(np.sum(np.abs(A), axis=1)) # linie"
   ]
  },
  {
   "cell_type": "code",
   "execution_count": 4,
   "metadata": {},
   "outputs": [
    {
     "name": "stdout",
     "output_type": "stream",
     "text": [
      "norma 1: 9\n",
      "norma infinit: 15\n"
     ]
    }
   ],
   "source": [
    "A = np.array([\n",
    "    [1,  2,  3],\n",
    "    [-4, 5, -6]\n",
    "])\n",
    "\n",
    "print(f'norma 1: {norma_1(A)}') \n",
    "print(f'norma infinit: {norma_infinit(A)}')"
   ]
  },
  {
   "cell_type": "markdown",
   "metadata": {},
   "source": [
    "### Alegerea matricei initiale V0 \n",
    "- Folosind (5) si (6)"
   ]
  },
  {
   "cell_type": "code",
   "execution_count": 5,
   "metadata": {},
   "outputs": [],
   "source": [
    "def alegere_V0(A):\n",
    "    norma_A_1 = norma_1(A)\n",
    "    norma_A_inf = norma_infinit(A)\n",
    "    AT = A.T\n",
    "    V0 = AT / (norma_A_1 * norma_A_inf)\n",
    "    return V0"
   ]
  },
  {
   "cell_type": "code",
   "execution_count": 6,
   "metadata": {},
   "outputs": [
    {
     "data": {
      "text/plain": [
       "array([[ 0.00740741, -0.02962963],\n",
       "       [ 0.01481481,  0.03703704],\n",
       "       [ 0.02222222, -0.04444444]])"
      ]
     },
     "execution_count": 6,
     "metadata": {},
     "output_type": "execute_result"
    }
   ],
   "source": [
    "alegere_V0(A)"
   ]
  },
  {
   "cell_type": "markdown",
   "metadata": {},
   "source": [
    "### Metode iterative de aproximare a inversei unei matrice\n",
    "\n",
    "1. Metoda Schultz (1)"
   ]
  },
  {
   "cell_type": "code",
   "execution_count": 7,
   "metadata": {},
   "outputs": [],
   "source": [
    "def metoda_schultz(A, n, epsilon, kmax):\n",
    "    V0 = alegere_V0(A)\n",
    "    V1 = V0.copy()\n",
    "    k = 0\n",
    "    I = np.eye(n)\n",
    "    \n",
    "    while k < kmax:\n",
    "        V0 = V1.copy()\n",
    "        \n",
    "        AV0 = A @ V0 # @ in loc de np.matmul()\n",
    "        V1 = V0 @ (2 * I - AV0)\n",
    "        \n",
    "        diff = np.linalg.norm(V1 - V0, 1)\n",
    "        \n",
    "        if diff < epsilon:\n",
    "            return V1, k, True\n",
    "        \n",
    "        if diff > 1e10:\n",
    "            return V1, k, False\n",
    "        \n",
    "        k += 1\n",
    "    \n",
    "    return V1, k, False"
   ]
  },
  {
   "cell_type": "code",
   "execution_count": 9,
   "metadata": {},
   "outputs": [
    {
     "data": {
      "text/plain": [
       "(array([[ 1.00000000e+00, -2.00000000e+00,  4.00000000e+00,\n",
       "         -8.00000000e+00],\n",
       "        [ 1.45434799e-29,  1.00000000e+00, -2.00000000e+00,\n",
       "          4.00000000e+00],\n",
       "        [-6.68144552e-30,  1.77156230e-29,  1.00000000e+00,\n",
       "         -2.00000000e+00],\n",
       "        [ 2.70202537e-30, -7.04140569e-30,  1.41875768e-29,\n",
       "          1.00000000e+00]]),\n",
       " 15,\n",
       " True)"
      ]
     },
     "execution_count": 9,
     "metadata": {},
     "output_type": "execute_result"
    }
   ],
   "source": [
    "A = np.array([\n",
    "    [1, 2, 0, 0],\n",
    "    [0, 1, 2, 0],\n",
    "    [0, 0, 1, 2],\n",
    "    [0, 0, 0, 1]\n",
    "])\n",
    "\n",
    "metoda_schultz(A, 4, 1e-10, 10000)"
   ]
  },
  {
   "cell_type": "markdown",
   "metadata": {},
   "source": [
    "2. Metoda Li (2)\n",
    "- prima formula dintre cele 2 "
   ]
  },
  {
   "cell_type": "code",
   "execution_count": 11,
   "metadata": {},
   "outputs": [],
   "source": [
    "def metoda_li_prima_formula(A, n, epsilon, kmax):\n",
    "\n",
    "    V0 = alegere_V0(A)\n",
    "    V1 = V0.copy()\n",
    "    k = 0\n",
    "    I = np.eye(n)\n",
    "    \n",
    "    while k < kmax:\n",
    "        V0 = V1.copy()\n",
    "        \n",
    "        AV0 = A @ V0\n",
    "        AV0_patrat = AV0 @ AV0\n",
    "        V1 = V0 @ (3 * I - 3 * AV0 + AV0_patrat) # calcul putin simplificat\n",
    "        \n",
    "        diff = np.linalg.norm(V1 - V0, 1)\n",
    "        \n",
    "        if diff < epsilon:\n",
    "            return V1, k, True\n",
    "        \n",
    "        if diff > 1e10:\n",
    "            return V1, k, False\n",
    "        \n",
    "        k += 1\n",
    "    \n",
    "    return V1, k, False\n"
   ]
  },
  {
   "cell_type": "code",
   "execution_count": 12,
   "metadata": {},
   "outputs": [
    {
     "data": {
      "text/plain": [
       "(array([[ 1.00000000e+00, -2.00000000e+00,  4.00000000e+00,\n",
       "         -8.00000000e+00],\n",
       "        [-1.83670992e-40,  1.00000000e+00, -2.00000000e+00,\n",
       "          4.00000000e+00],\n",
       "        [ 9.18354962e-41, -1.14794370e-41,  1.00000000e+00,\n",
       "         -2.00000000e+00],\n",
       "        [-4.59177481e-41,  5.73971851e-42,  2.86985925e-42,\n",
       "          1.00000000e+00]]),\n",
       " 10,\n",
       " True)"
      ]
     },
     "execution_count": 12,
     "metadata": {},
     "output_type": "execute_result"
    }
   ],
   "source": [
    "A = np.array([\n",
    "    [1, 2, 0, 0],\n",
    "    [0, 1, 2, 0],\n",
    "    [0, 0, 1, 2],\n",
    "    [0, 0, 0, 1]\n",
    "])\n",
    "\n",
    "metoda_li_prima_formula(A, 4, 1e-10, 10000)"
   ]
  },
  {
   "cell_type": "markdown",
   "metadata": {},
   "source": [
    "- a doua formula pentru Li"
   ]
  },
  {
   "cell_type": "code",
   "execution_count": 13,
   "metadata": {},
   "outputs": [],
   "source": [
    "def metoda_li_a_doua_formula(A, n, epsilon, kmax):\n",
    "\n",
    "    V0 = alegere_V0(A)\n",
    "    V1 = V0.copy()\n",
    "    k = 0\n",
    "    I = np.eye(n)\n",
    "    \n",
    "    while k < kmax:\n",
    "        V0 = V1.copy()\n",
    "        \n",
    "        V0A = V0 @ A\n",
    "        temp1 = (I - V0A)\n",
    "        temp2 = (3 * I - V0A)\n",
    "        temp2_patrat = temp2 @ temp2\n",
    "\n",
    "        V1 = (I + (1/4) * temp1 @ temp2_patrat) @ V0\n",
    "        \n",
    "        diff = np.linalg.norm(V1 - V0, 1)\n",
    "        \n",
    "        if diff < epsilon:\n",
    "            return V1, k, True\n",
    "        \n",
    "        if diff > 1e10:\n",
    "            return V1, k, False\n",
    "        \n",
    "        k += 1\n",
    "    \n",
    "    return V1, k, False\n"
   ]
  },
  {
   "cell_type": "code",
   "execution_count": 14,
   "metadata": {},
   "outputs": [
    {
     "data": {
      "text/plain": [
       "(array([[ 1.00000000e+00, -2.00000000e+00,  4.00000000e+00,\n",
       "         -8.00000000e+00],\n",
       "        [-4.08541542e-32,  1.00000000e+00, -2.00000000e+00,\n",
       "          4.00000000e+00],\n",
       "        [ 1.37143848e-32, -1.08401594e-31,  1.00000000e+00,\n",
       "         -2.00000000e+00],\n",
       "        [ 0.00000000e+00,  0.00000000e+00,  0.00000000e+00,\n",
       "          1.00000000e+00]]),\n",
       " 9,\n",
       " True)"
      ]
     },
     "execution_count": 14,
     "metadata": {},
     "output_type": "execute_result"
    }
   ],
   "source": [
    "A = np.array([\n",
    "    [1, 2, 0, 0],\n",
    "    [0, 1, 2, 0],\n",
    "    [0, 0, 1, 2],\n",
    "    [0, 0, 0, 1]\n",
    "])\n",
    "\n",
    "metoda_li_a_doua_formula(A, 4, 1e-10, 10000)"
   ]
  },
  {
   "cell_type": "code",
   "execution_count": 17,
   "metadata": {},
   "outputs": [
    {
     "name": "stdout",
     "output_type": "stream",
     "text": [
      "Matricea A:\n",
      "[[1. 2. 0. 0.]\n",
      " [0. 1. 2. 0.]\n",
      " [0. 0. 1. 2.]\n",
      " [0. 0. 0. 1.]]\n"
     ]
    }
   ],
   "source": [
    "n = 4\n",
    "epsilon = 1e-10\n",
    "kmax = 10000\n",
    "\n",
    "A = np.zeros((n, n))\n",
    "for i in range(n):\n",
    "    if i < n-1:\n",
    "        A[i, i] = 1\n",
    "        A[i, i+1] = 2\n",
    "    else:\n",
    "        A[i, i] = 1\n",
    "\n",
    "print(\"Matricea A:\")\n",
    "print(A)          "
   ]
  },
  {
   "cell_type": "code",
   "execution_count": 18,
   "metadata": {},
   "outputs": [
    {
     "name": "stdout",
     "output_type": "stream",
     "text": [
      "\n",
      "1. Metoda Schultz:\n",
      "Convergenta: 15 iteratii\n",
      "Norma: 1.4187576805682662e-29\n",
      "Aproximarea inversei:\n",
      "[[ 1. -2.  4. -8.]\n",
      " [ 0.  1. -2.  4.]\n",
      " [-0.  0.  1. -2.]\n",
      " [ 0. -0.  0.  1.]]\n"
     ]
    }
   ],
   "source": [
    "print(\"\\n1. Metoda Schultz:\")\n",
    "\n",
    "V1_schultz, iter_schultz, conv_schultz = metoda_schultz(A, n, epsilon, kmax)\n",
    "if conv_schultz:\n",
    "    print(f'Convergenta: {iter_schultz} iteratii')\n",
    "    norma_schultz = np.linalg.norm(A @ V1_schultz - np.eye(n), 1)\n",
    "    print(f'Norma: {norma_schultz}')\n",
    "    print(\"Aproximarea inversei:\")\n",
    "    \n",
    "    with np.printoptions(precision=6, suppress=True):\n",
    "        print(V1_schultz)\n",
    "else:\n",
    "    print(\"nr maxim de iteratii atins, no good\")\n",
    "   "
   ]
  },
  {
   "cell_type": "code",
   "execution_count": 23,
   "metadata": {},
   "outputs": [
    {
     "name": "stdout",
     "output_type": "stream",
     "text": [
      "\n",
      "2.1 Metoda Li prima formula:\n",
      "Convergenta: 10 iteratii\n",
      "Norma: 2.220446049250313e-16\n",
      "Aproximarea inversei:\n",
      "[[ 1. -2.  4. -8.]\n",
      " [-0.  1. -2.  4.]\n",
      " [ 0. -0.  1. -2.]\n",
      " [-0.  0.  0.  1.]]\n",
      "\n",
      "2.2 Metoda Li a doua formula:\n",
      "Convergenta: 9 iteratii\n",
      "Norma: 6.66133814775094e-16\n",
      "Aproximarea inversei:\n",
      "[[ 1. -2.  4. -8.]\n",
      " [-0.  1. -2.  4.]\n",
      " [ 0. -0.  1. -2.]\n",
      " [ 0.  0.  0.  1.]]\n"
     ]
    }
   ],
   "source": [
    "print(\"\\n2.1 Metoda Li prima formula:\")\n",
    "\n",
    "V1_li_prima, iter_li_prima, conv_li_prima = metoda_li_prima_formula(A, n, epsilon, kmax)\n",
    "if conv_li_prima:\n",
    "    print(f'Convergenta: {iter_li_prima} iteratii')\n",
    "    norma_li_prima = np.linalg.norm(A @ V1_li_prima - np.eye(n), 1)\n",
    "    print(f'Norma: {norma_li_prima}')\n",
    "    print(\"Aproximarea inversei:\")\n",
    "    \n",
    "    with np.printoptions(precision=6, suppress=True):\n",
    "        print(V1_li_prima)\n",
    "else:\n",
    "    print(\"nr maxim de iteratii atins, no good\")\n",
    "    \n",
    "print(\"\\n2.2 Metoda Li a doua formula:\")\n",
    "\n",
    "V1_li_second, iter_li_second, conv_li_second = metoda_li_a_doua_formula(A, n, epsilon, kmax)\n",
    "if conv_li_second:\n",
    "    print(f'Convergenta: {iter_li_second} iteratii')\n",
    "    norma_li_second = np.linalg.norm(A @ V1_li_second - np.eye(n), 1)\n",
    "    print(f'Norma: {norma_li_second}')\n",
    "    print(\"Aproximarea inversei:\")\n",
    "    \n",
    "    with np.printoptions(precision=6, suppress=True):\n",
    "        print(V1_li_second)\n",
    "else:\n",
    "    print(\"nr maxim de iteratii atins, no good\")\n",
    "    \n"
   ]
  },
  {
   "cell_type": "markdown",
   "metadata": {},
   "source": [
    "### Deducerea inductiva pt forma generala a inversei lui A"
   ]
  },
  {
   "cell_type": "code",
   "execution_count": 26,
   "metadata": {},
   "outputs": [
    {
     "name": "stdout",
     "output_type": "stream",
     "text": [
      "pentru n = 4\n",
      "[[ 1. -2.  4. -8.]\n",
      " [ 0.  1. -2.  4.]\n",
      " [ 0.  0.  1. -2.]\n",
      " [ 0.  0.  0.  1.]]\n",
      "pentru n = 8\n",
      "[[   1.   -2.    4.   -8.   16.  -32.   64. -128.]\n",
      " [   0.    1.   -2.    4.   -8.   16.  -32.   64.]\n",
      " [   0.    0.    1.   -2.    4.   -8.   16.  -32.]\n",
      " [   0.    0.    0.    1.   -2.    4.   -8.   16.]\n",
      " [   0.    0.    0.    0.    1.   -2.    4.   -8.]\n",
      " [   0.    0.    0.    0.    0.    1.   -2.    4.]\n",
      " [   0.    0.    0.    0.    0.    0.    1.   -2.]\n",
      " [   0.    0.    0.    0.    0.    0.    0.    1.]]\n"
     ]
    }
   ],
   "source": [
    "def forma_generala_inversa(n):\n",
    "    A_inv = np.zeros((n, n))\n",
    "    \n",
    "    for i in range(n):\n",
    "        A_inv[i, i] = 1\n",
    "        for j in range(i+1, n):\n",
    "            A_inv[i, j] = (-2) ** (j-i)\n",
    "    \n",
    "    return A_inv\n",
    "\n",
    "print('pentru n = 4')\n",
    "print(forma_generala_inversa(4))\n",
    "print('pentru n = 8')\n",
    "print(forma_generala_inversa(8))\n",
    "\n"
   ]
  },
  {
   "cell_type": "code",
   "execution_count": 31,
   "metadata": {},
   "outputs": [
    {
     "name": "stdout",
     "output_type": "stream",
     "text": [
      "folosesc n = 4\n",
      "[[ 1. -2.  4. -8.]\n",
      " [ 0.  1. -2.  4.]\n",
      " [ 0.  0.  1. -2.]\n",
      " [ 0.  0.  0.  1.]]\n",
      "||A_exact^(-1) - A_schultz^(-1)|| = 2.4757028733951737e-29\n",
      "||A_exact^(-1) - A_li1^(-1)|| = 2.220446049250313e-16\n",
      "||A_exact^(-1) - A_li2^(-1)|| = 2.220446049250314e-16\n"
     ]
    }
   ],
   "source": [
    "n = 4\n",
    "print(f'folosesc n = {n}')\n",
    "A_exact_inv = forma_generala_inversa(n)\n",
    "with np.printoptions(precision=6, suppress=True):\n",
    "    print(A_exact_inv)\n",
    "    \n",
    "norma_diff_schultz = np.linalg.norm(A_exact_inv - V1_schultz, 1)\n",
    "norma_diff_li_prima = np.linalg.norm(A_exact_inv - V1_li_prima, 1)\n",
    "norma_diff_li_second = np.linalg.norm(A_exact_inv - V1_li_second, 1)\n",
    "\n",
    "print(f\"||A_exact^(-1) - A_schultz^(-1)|| = {norma_diff_schultz}\")\n",
    "print(f\"||A_exact^(-1) - A_li1^(-1)|| = {norma_diff_li_prima}\")\n",
    "print(f\"||A_exact^(-1) - A_li2^(-1)|| = {norma_diff_li_second}\")\n",
    "\n"
   ]
  },
  {
   "cell_type": "code",
   "execution_count": 32,
   "metadata": {},
   "outputs": [
    {
     "name": "stdout",
     "output_type": "stream",
     "text": [
      "Testare:\n",
      "\n",
      "Test pentru n = 3\n",
      "Eroarea pentru inversa exactă: 0.0\n",
      "Matricea A:\n",
      "[[1. 2. 0.]\n",
      " [0. 1. 2.]\n",
      " [0. 0. 1.]]\n",
      "Inversa exactă:\n",
      "[[ 1. -2.  4.]\n",
      " [ 0.  1. -2.]\n",
      " [ 0.  0.  1.]]\n",
      "\n",
      "Test pentru n = 4\n",
      "Eroarea pentru inversa exactă: 0.0\n",
      "Matricea A:\n",
      "[[1. 2. 0. 0.]\n",
      " [0. 1. 2. 0.]\n",
      " [0. 0. 1. 2.]\n",
      " [0. 0. 0. 1.]]\n",
      "Inversa exactă:\n",
      "[[ 1. -2.  4. -8.]\n",
      " [ 0.  1. -2.  4.]\n",
      " [ 0.  0.  1. -2.]\n",
      " [ 0.  0.  0.  1.]]\n",
      "\n",
      "Test pentru n = 5\n",
      "Eroarea pentru inversa exactă: 0.0\n",
      "Matricea A:\n",
      "[[1. 2. 0. 0. 0.]\n",
      " [0. 1. 2. 0. 0.]\n",
      " [0. 0. 1. 2. 0.]\n",
      " [0. 0. 0. 1. 2.]\n",
      " [0. 0. 0. 0. 1.]]\n",
      "Inversa exactă:\n",
      "[[ 1. -2.  4. -8. 16.]\n",
      " [ 0.  1. -2.  4. -8.]\n",
      " [ 0.  0.  1. -2.  4.]\n",
      " [ 0.  0.  0.  1. -2.]\n",
      " [ 0.  0.  0.  0.  1.]]\n",
      "\n",
      "Test pentru n = 6\n",
      "Eroarea pentru inversa exactă: 0.0\n",
      "Matricea A:\n",
      "[[1. 2. 0. 0. 0. 0.]\n",
      " [0. 1. 2. 0. 0. 0.]\n",
      " [0. 0. 1. 2. 0. 0.]\n",
      " [0. 0. 0. 1. 2. 0.]\n",
      " [0. 0. 0. 0. 1. 2.]\n",
      " [0. 0. 0. 0. 0. 1.]]\n",
      "Inversa exactă:\n",
      "[[  1.  -2.   4.  -8.  16. -32.]\n",
      " [  0.   1.  -2.   4.  -8.  16.]\n",
      " [  0.   0.   1.  -2.   4.  -8.]\n",
      " [  0.   0.   0.   1.  -2.   4.]\n",
      " [  0.   0.   0.   0.   1.  -2.]\n",
      " [  0.   0.   0.   0.   0.   1.]]\n"
     ]
    }
   ],
   "source": [
    "print(\"Testare:\")\n",
    "for test_n in [3, 4, 5, 6]:\n",
    "    print(f\"\\nTest pentru n = {test_n}\")\n",
    "    \n",
    "    test_A = np.zeros((test_n, test_n))\n",
    "    for i in range(test_n):\n",
    "        if i < test_n-1:\n",
    "            test_A[i, i] = 1\n",
    "            test_A[i, i+1] = 2\n",
    "        else:\n",
    "            test_A[i, i] = 1\n",
    "    \n",
    "    test_A_exact_inv = forma_generala_inversa(test_n)\n",
    "    \n",
    "    test_product = test_A @ test_A_exact_inv\n",
    "    test_error = np.linalg.norm(test_product - np.eye(test_n), 1)\n",
    "    print(f\"Eroare inversa exacta: {test_error}\")\n",
    "    \n",
    "    print(\"Matricea A:\")\n",
    "    print(test_A)\n",
    "    print(\"Inversa exacta:\")\n",
    "    with np.printoptions(precision=6, suppress=True):\n",
    "        print(test_A_exact_inv) "
   ]
  }
 ],
 "metadata": {
  "kernelspec": {
   "display_name": "Python 3",
   "language": "python",
   "name": "python3"
  },
  "language_info": {
   "codemirror_mode": {
    "name": "ipython",
    "version": 3
   },
   "file_extension": ".py",
   "mimetype": "text/x-python",
   "name": "python",
   "nbconvert_exporter": "python",
   "pygments_lexer": "ipython3",
   "version": "3.12.6"
  },
  "orig_nbformat": 4
 },
 "nbformat": 4,
 "nbformat_minor": 2
}
