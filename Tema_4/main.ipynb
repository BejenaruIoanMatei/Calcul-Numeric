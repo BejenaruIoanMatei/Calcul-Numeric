{
 "cells": [
  {
   "cell_type": "markdown",
   "metadata": {},
   "source": [
    "### Cele doua norme\n",
    "- Norma 1: ||A||_1\n",
    "- Norma infinit: ||A||_inf"
   ]
  },
  {
   "cell_type": "code",
   "execution_count": 1,
   "metadata": {},
   "outputs": [],
   "source": [
    "import numpy as np"
   ]
  },
  {
   "cell_type": "code",
   "execution_count": 3,
   "metadata": {},
   "outputs": [],
   "source": [
    "def norma_1(A):\n",
    "    return np.max(np.sum(np.abs(A), axis=0)) # col\n",
    "\n",
    "def norma_infinit(A):\n",
    "    return np.max(np.sum(np.abs(A), axis=1)) # linie"
   ]
  },
  {
   "cell_type": "code",
   "execution_count": 4,
   "metadata": {},
   "outputs": [
    {
     "name": "stdout",
     "output_type": "stream",
     "text": [
      "norma 1: 9\n",
      "norma infinit: 15\n"
     ]
    }
   ],
   "source": [
    "A = np.array([\n",
    "    [1,  2,  3],\n",
    "    [-4, 5, -6]\n",
    "])\n",
    "\n",
    "print(f'norma 1: {norma_1(A)}') \n",
    "print(f'norma infinit: {norma_infinit(A)}')"
   ]
  },
  {
   "cell_type": "markdown",
   "metadata": {},
   "source": [
    "### Alegerea matricei initiale V0 \n",
    "- Folosind (5) si (6)"
   ]
  },
  {
   "cell_type": "code",
   "execution_count": 5,
   "metadata": {},
   "outputs": [],
   "source": [
    "def alegere_V0(A):\n",
    "    norma_A_1 = norma_1(A)\n",
    "    norma_A_inf = norma_infinit(A)\n",
    "    AT = A.T\n",
    "    V0 = AT / (norma_A_1 * norma_A_inf)\n",
    "    return V0"
   ]
  },
  {
   "cell_type": "code",
   "execution_count": 6,
   "metadata": {},
   "outputs": [
    {
     "data": {
      "text/plain": [
       "array([[ 0.00740741, -0.02962963],\n",
       "       [ 0.01481481,  0.03703704],\n",
       "       [ 0.02222222, -0.04444444]])"
      ]
     },
     "execution_count": 6,
     "metadata": {},
     "output_type": "execute_result"
    }
   ],
   "source": [
    "alegere_V0(A)"
   ]
  },
  {
   "cell_type": "markdown",
   "metadata": {},
   "source": [
    "### Metode iterative de aproximare a inversei unei matrice\n",
    "\n",
    "1. Metoda Schultz"
   ]
  },
  {
   "cell_type": "code",
   "execution_count": 7,
   "metadata": {},
   "outputs": [],
   "source": [
    "def metoda_schultz(A, n, epsilon, kmax):\n",
    "    V0 = alegere_V0(A)\n",
    "    V1 = V0.copy()\n",
    "    k = 0\n",
    "    I = np.eye(n)\n",
    "    \n",
    "    while k < kmax:\n",
    "        V0 = V1.copy()\n",
    "        \n",
    "        AV0 = A @ V0 # @ in loc de np.matmul()\n",
    "        V1 = V0 @ (2 * I - AV0)\n",
    "        \n",
    "        diff = np.linalg.norm(V1 - V0, 1)\n",
    "        \n",
    "        if diff < epsilon:\n",
    "            return V1, k, True\n",
    "        \n",
    "        if diff > 1e10:\n",
    "            return V1, k, False\n",
    "        \n",
    "        k += 1\n",
    "    \n",
    "    return V1, k, False"
   ]
  },
  {
   "cell_type": "code",
   "execution_count": 9,
   "metadata": {},
   "outputs": [
    {
     "data": {
      "text/plain": [
       "(array([[ 1.00000000e+00, -2.00000000e+00,  4.00000000e+00,\n",
       "         -8.00000000e+00],\n",
       "        [ 1.45434799e-29,  1.00000000e+00, -2.00000000e+00,\n",
       "          4.00000000e+00],\n",
       "        [-6.68144552e-30,  1.77156230e-29,  1.00000000e+00,\n",
       "         -2.00000000e+00],\n",
       "        [ 2.70202537e-30, -7.04140569e-30,  1.41875768e-29,\n",
       "          1.00000000e+00]]),\n",
       " 15,\n",
       " True)"
      ]
     },
     "execution_count": 9,
     "metadata": {},
     "output_type": "execute_result"
    }
   ],
   "source": [
    "A = np.array([\n",
    "    [1, 2, 0, 0],\n",
    "    [0, 1, 2, 0],\n",
    "    [0, 0, 1, 2],\n",
    "    [0, 0, 0, 1]\n",
    "])\n",
    "\n",
    "metoda_schultz(A, 4, 1e-10, 10000)"
   ]
  }
 ],
 "metadata": {
  "kernelspec": {
   "display_name": "Python 3",
   "language": "python",
   "name": "python3"
  },
  "language_info": {
   "codemirror_mode": {
    "name": "ipython",
    "version": 3
   },
   "file_extension": ".py",
   "mimetype": "text/x-python",
   "name": "python",
   "nbconvert_exporter": "python",
   "pygments_lexer": "ipython3",
   "version": "3.12.6"
  },
  "orig_nbformat": 4
 },
 "nbformat": 4,
 "nbformat_minor": 2
}
