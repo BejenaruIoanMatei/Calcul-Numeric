{
 "cells": [
  {
   "cell_type": "markdown",
   "metadata": {},
   "source": [
    "### Cele doua norme\n",
    "- Norma 1: ||A||_1\n",
    "- Norma infinit: ||A||_inf"
   ]
  },
  {
   "cell_type": "code",
   "execution_count": 1,
   "metadata": {},
   "outputs": [],
   "source": [
    "import numpy as np"
   ]
  },
  {
   "cell_type": "code",
   "execution_count": 3,
   "metadata": {},
   "outputs": [],
   "source": [
    "def norma_1(A):\n",
    "    return np.max(np.sum(np.abs(A), axis=0)) # col\n",
    "\n",
    "def norma_infinit(A):\n",
    "    return np.max(np.sum(np.abs(A), axis=1)) # linie"
   ]
  },
  {
   "cell_type": "code",
   "execution_count": 4,
   "metadata": {},
   "outputs": [
    {
     "name": "stdout",
     "output_type": "stream",
     "text": [
      "norma 1: 9\n",
      "norma infinit: 15\n"
     ]
    }
   ],
   "source": [
    "A = np.array([\n",
    "    [1,  2,  3],\n",
    "    [-4, 5, -6]\n",
    "])\n",
    "\n",
    "print(f'norma 1: {norma_1(A)}') \n",
    "print(f'norma infinit: {norma_infinit(A)}')"
   ]
  }
 ],
 "metadata": {
  "kernelspec": {
   "display_name": "Python 3",
   "language": "python",
   "name": "python3"
  },
  "language_info": {
   "codemirror_mode": {
    "name": "ipython",
    "version": 3
   },
   "file_extension": ".py",
   "mimetype": "text/x-python",
   "name": "python",
   "nbconvert_exporter": "python",
   "pygments_lexer": "ipython3",
   "version": "3.12.6"
  },
  "orig_nbformat": 4
 },
 "nbformat": 4,
 "nbformat_minor": 2
}
