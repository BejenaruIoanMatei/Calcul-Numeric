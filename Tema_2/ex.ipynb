{
 "cells": [
  {
   "cell_type": "code",
   "execution_count": 2,
   "metadata": {},
   "outputs": [],
   "source": [
    "import numpy as np"
   ]
  },
  {
   "cell_type": "code",
   "execution_count": 17,
   "metadata": {},
   "outputs": [],
   "source": [
    "def LUdecomp(a):\n",
    "    n = len(a)\n",
    "    for k in range(0, n-1):\n",
    "        if a[k, k] == 0:\n",
    "            raise ValueError(\"Descompunerea LU eșuează: pivot nul.\")\n",
    "        for i in range(k+1, n):\n",
    "            if a[i, k] != 0.0:\n",
    "                lam = a[i, k] / a[k, k]\n",
    "                a[i, k+1:n] = a[i, k+1:n] - lam * a[k, k+1:n]\n",
    "                a[i, k] = lam\n",
    "    return a"
   ]
  },
  {
   "cell_type": "code",
   "execution_count": 20,
   "metadata": {},
   "outputs": [
    {
     "name": "stdout",
     "output_type": "stream",
     "text": [
      "[[4.  2.  3. ]\n",
      " [0.5 6.  4. ]\n",
      " [1.5 0.  8. ]]\n"
     ]
    }
   ],
   "source": [
    "n = 3\n",
    "\n",
    "#matrix =  np.random.rand(n,n)\n",
    "\n",
    "\n",
    "\n",
    "A = np.array([\n",
    "    [4, 2, 3],\n",
    "    [2, 7, 5.5],\n",
    "    [6, 3, 12.5]\n",
    "])\n",
    "\n",
    "valid = True\n",
    "\n",
    "dU = [2, 3, 4]\n",
    "\n",
    "for k in range(1,n+1):\n",
    "    Ak = A[:k, :k]\n",
    "    det = np.linalg.det(Ak)\n",
    "\n",
    "    if det == 0:\n",
    "        valid = False\n",
    "        print(\"Nu se poate calcula o descompunere LU\")\n",
    "\n",
    "        break\n",
    " \n",
    "if valid:\n",
    "    LU = LUdecomp(A.copy())\n",
    "    print(LU)"
   ]
  },
  {
   "cell_type": "code",
   "execution_count": null,
   "metadata": {},
   "outputs": [],
   "source": [
    "\n"
   ]
  }
 ],
 "metadata": {
  "kernelspec": {
   "display_name": "Python 3",
   "language": "python",
   "name": "python3"
  },
  "language_info": {
   "codemirror_mode": {
    "name": "ipython",
    "version": 3
   },
   "file_extension": ".py",
   "mimetype": "text/x-python",
   "name": "python",
   "nbconvert_exporter": "python",
   "pygments_lexer": "ipython3",
   "version": "3.13.0"
  }
 },
 "nbformat": 4,
 "nbformat_minor": 2
}
