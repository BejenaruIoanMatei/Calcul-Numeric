{
 "cells": [
  {
   "cell_type": "code",
   "execution_count": 2,
   "metadata": {},
   "outputs": [],
   "source": [
    "import numpy as np"
   ]
  },
  {
   "cell_type": "code",
   "execution_count": null,
   "metadata": {},
   "outputs": [],
   "source": [
    "def lu_decomposition(A, dU=None):\n",
    "    n = A.shape[0]\n",
    "    \n",
    "    if dU is None:\n",
    "        dU = np.ones(n)\n",
    "    \n",
    "    L = np.zeros((n, n))\n",
    "    U = np.zeros((n, n))\n",
    "    \n",
    "    for i in range(n):\n",
    "        U[i, i] = dU[i]\n",
    "    \n",
    "    L[0, 0] = A[0, 0] / U[0, 0]\n",
    "    \n",
    "    for j in range(1, n):\n",
    "        U[0, j] = A[0, j] / L[0, 0]\n",
    "    \n",
    "    for i in range(1, n):\n",
    "        L[i, 0] = A[i, 0] / U[0, 0]\n",
    "    \n",
    "    for p in range(1, n):\n",
    "        sum_l = 0\n",
    "        for k in range(p):\n",
    "            sum_l += L[p, k] * U[k, p]\n",
    "        L[p, p] = (A[p, p] - sum_l) / U[p, p]  \n",
    "        # L[1,1] = (7-1*1)/3 = 2\n",
    "        # L[2,2] = (12.5-3*0)/4 = 3.125\n",
    "        \n",
    "        for j in range(p+1, n):\n",
    "            sum_u = 0\n",
    "            for k in range(p):\n",
    "                sum_u += L[p, k] * U[k, j]\n",
    "            U[p, j] = (A[p, j] - sum_u) / L[p, p]\n",
    "    \n",
    "        for i in range(p+1, n):\n",
    "            sum_l = 0\n",
    "            for k in range(p):\n",
    "                sum_l += L[i, k] * U[k, p]\n",
    "            L[i, p] = (A[i, p] - sum_l) / U[p, p]\n",
    "    \n",
    "    return L, U\n",
    "\n",
    "\n",
    "def find_determinant(A, dU):\n",
    "    # After the decomposition, A = LU and det(A) = det(L) * det(U) \n",
    "    # Therefore det(A) = det(L) * det(U) = product of the diagonal elements of U and L\n",
    "    return np.prod([A[i][i] for i in range(A.shape[0])]) * np.prod([dU[i] for i in range(len(dU))])\n",
    "\n"
   ]
  },
  {
   "cell_type": "code",
   "execution_count": null,
   "metadata": {},
   "outputs": [
    {
     "ename": "NameError",
     "evalue": "name 'L' is not defined",
     "output_type": "error",
     "traceback": [
      "\u001b[31m---------------------------------------------------------------------------\u001b[39m",
      "\u001b[31mNameError\u001b[39m                                 Traceback (most recent call last)",
      "\u001b[36mCell\u001b[39m\u001b[36m \u001b[39m\u001b[32mIn[1]\u001b[39m\u001b[32m, line 37\u001b[39m\n\u001b[32m     34\u001b[39m         \u001b[38;5;28;01mbreak\u001b[39;00m\n\u001b[32m     36\u001b[39m \u001b[38;5;28;01mif\u001b[39;00m valid:\n\u001b[32m---> \u001b[39m\u001b[32m37\u001b[39m     \u001b[38;5;28mprint\u001b[39m(\u001b[33m\"\u001b[39m\u001b[33mL =\u001b[39m\u001b[38;5;130;01m\\n\u001b[39;00m\u001b[33m\"\u001b[39m, \u001b[43mL\u001b[49m)\n\u001b[32m     38\u001b[39m     \u001b[38;5;28mprint\u001b[39m(\u001b[33m\"\u001b[39m\u001b[33mU =\u001b[39m\u001b[38;5;130;01m\\n\u001b[39;00m\u001b[33m\"\u001b[39m, U)\n\u001b[32m     39\u001b[39m     L, U = lu_decomposition(A, dU)\n",
      "\u001b[31mNameError\u001b[39m: name 'L' is not defined"
     ]
    }
   ],
   "source": [
    "import numpy as np\n",
    "\n",
    "n = 3\n",
    "\n",
    "A = np.array([\n",
    "    [4, 2, 3],\n",
    "    [2, 7, 5.5],\n",
    "    [6, 3, 12.5]\n",
    "])\n",
    "\n",
    "# L = np.array([\n",
    "#     [2, 0, 0],\n",
    "#     [1, 2, 0],\n",
    "#     [3, 0, 2]\n",
    "# ])\n",
    "\n",
    "# U = np.array([\n",
    "#     [2, 1, 1.5],\n",
    "#     [0, 3, 2],\n",
    "#     [0, 0, 4]\n",
    "# ])\n",
    "\n",
    "Ainit = A.copy()\n",
    "\n",
    "valid = True\n",
    "dU = [2, 3, 4]\n",
    "\n",
    "for k in range(1, n+1):\n",
    "    Ak = A[:k, :k]\n",
    "    det = np.linalg.det(Ak)\n",
    "    if abs(det) < 1e-8:\n",
    "        valid = False\n",
    "        print(\"Nu se poate calcula o descompunere LU\")\n",
    "        break\n",
    "\n",
    "if valid:\n",
    "    L, U = lu_decomposition(A, dU)\n",
    "    print(\"L =\\n\", L)\n",
    "    print(\"U =\\n\", U)\n",
    "    print(find_determinant(L, dU))\n",
    "    \n"
   ]
  },
  {
   "cell_type": "code",
   "execution_count": null,
   "metadata": {},
   "outputs": [],
   "source": [
    "\n"
   ]
  }
 ],
 "metadata": {
  "kernelspec": {
   "display_name": "Python 3",
   "language": "python",
   "name": "python3"
  },
  "language_info": {
   "codemirror_mode": {
    "name": "ipython",
    "version": 3
   },
   "file_extension": ".py",
   "mimetype": "text/x-python",
   "name": "python",
   "nbconvert_exporter": "python",
   "pygments_lexer": "ipython3",
   "version": "3.13.0"
  }
 },
 "nbformat": 4,
 "nbformat_minor": 2
}
