{
 "cells": [
  {
   "cell_type": "code",
   "execution_count": 1,
   "metadata": {},
   "outputs": [],
   "source": [
    "import numpy as np"
   ]
  },
  {
   "cell_type": "markdown",
   "metadata": {},
   "source": [
    "### Descompunere LU \n",
    "- Cand U are 1 pe diag pp\n",
    "- Fara vector dU"
   ]
  },
  {
   "cell_type": "code",
   "execution_count": 54,
   "metadata": {},
   "outputs": [
    {
     "name": "stdout",
     "output_type": "stream",
     "text": [
      "eroare: am gasit un minor cu det=0, deci nu se poate continua cu LU\n"
     ]
    }
   ],
   "source": [
    "import numpy as np\n",
    "\n",
    "def lu_decomposition_v1(A):\n",
    "    n = A.shape[0]\n",
    "    L = np.zeros((n, n))\n",
    "    U = np.eye(n)\n",
    "    \n",
    "    for p in range(n):\n",
    "        for i in range(p, n):\n",
    "            sum_l = sum(L[i, k] * U[k, p] for k in range(p))\n",
    "            L[i, p] = A[i, p] - sum_l\n",
    "        \n",
    "        for i in range(p + 1, n):\n",
    "            sum_u = sum(L[p, k] * U[k, i] for k in range(p))\n",
    "            if L[p, p] == 0:\n",
    "                raise ValueError(\"am gasit un minor cu det=0, deci nu se poate continua cu LU\")\n",
    "            U[p, i] = (A[p, i] - sum_u) / L[p, p]\n",
    "    \n",
    "    return L, U\n",
    "\n",
    "try:\n",
    "    A = np.array([[4, 4, 3],\n",
    "                [2, 2, 5.5],\n",
    "                [6, 3, 12.5]], dtype=float)\n",
    "\n",
    "    L, U = lu_decomposition_v1(A)\n",
    "\n",
    "    print(\"Matricea L:\")\n",
    "    print(L)\n",
    "    print(\"\\nMatricea U:\")\n",
    "    print(U)\n",
    "\n",
    "    print(\"\\nVerificare A = LU:\")\n",
    "    print(np.dot(L, U))\n",
    "except ValueError as e:\n",
    "    print(f'eroare: {e}')"
   ]
  },
  {
   "cell_type": "code",
   "execution_count": 38,
   "metadata": {},
   "outputs": [],
   "source": [
    "def lu_decomposition(A, dU=None):\n",
    "    n = A.shape[0]\n",
    "    \n",
    "    if dU is None:\n",
    "        dU = np.ones(n)\n",
    "    \n",
    "    L = np.zeros((n, n))\n",
    "    U = np.zeros((n, n))\n",
    "    \n",
    "    for i in range(n):\n",
    "        U[i, i] = dU[i]\n",
    "    \n",
    "    if A[0, 0] == 0 or U[0, 0] == 0:\n",
    "        raise ValueError(\"am gasit un minor cu det=0, deci nu se poate continua cu LU\")\n",
    "    \n",
    "    L[0, 0] = A[0, 0] / U[0, 0]\n",
    "    \n",
    "    for j in range(1, n):\n",
    "        U[0, j] = A[0, j] / L[0, 0]\n",
    "    \n",
    "    for i in range(1, n):\n",
    "        L[i, 0] = A[i, 0] / U[0, 0]\n",
    "    \n",
    "    for p in range(1, n):\n",
    "        sum_l = 0\n",
    "        for k in range(p):\n",
    "            sum_l += L[p, k] * U[k, p]\n",
    "        \n",
    "        if A[p, p] - sum_l == 0 or U[p, p] == 0:\n",
    "            raise ValueError(f\"am gasit un minor cu det=0 (pasul {p}), deci nu se poate continua cu LU\")\n",
    "        \n",
    "        L[p, p] = (A[p, p] - sum_l) / U[p, p]\n",
    "        \n",
    "        for j in range(p+1, n):\n",
    "            sum_u = 0\n",
    "            for k in range(p):\n",
    "                sum_u += L[p, k] * U[k, j]\n",
    "            \n",
    "            U[p, j] = (A[p, j] - sum_u) / L[p, p]\n",
    "        \n",
    "        for i in range(p+1, n):\n",
    "            sum_l = 0\n",
    "            for k in range(p):\n",
    "                sum_l += L[i, k] * U[k, p]\n",
    "            L[i, p] = (A[i, p] - sum_l) / U[p, p]\n",
    "    \n",
    "    return L, U"
   ]
  },
  {
   "cell_type": "code",
   "execution_count": 55,
   "metadata": {},
   "outputs": [
    {
     "data": {
      "text/plain": [
       "(3, 3)"
      ]
     },
     "execution_count": 55,
     "metadata": {},
     "output_type": "execute_result"
    }
   ],
   "source": [
    "A = np.array([[4, 2, 3],\n",
    "              [2, 7, 5.5],\n",
    "              [6, 3, 12.5]], dtype=float)\n",
    "\n",
    "A.shape"
   ]
  },
  {
   "cell_type": "code",
   "execution_count": 56,
   "metadata": {},
   "outputs": [
    {
     "name": "stdout",
     "output_type": "stream",
     "text": [
      "Matricea L:\n",
      "[[2. 0. 0.]\n",
      " [1. 2. 0.]\n",
      " [3. 0. 2.]]\n",
      "\n",
      "Matricea U:\n",
      "[[2.  1.  1.5]\n",
      " [0.  3.  2. ]\n",
      " [0.  0.  4. ]]\n",
      "\n",
      "Verificare A = LU:\n",
      "[[ 4.   2.   3. ]\n",
      " [ 2.   7.   5.5]\n",
      " [ 6.   3.  12.5]]\n",
      "\n",
      "dU = [2, 3, 4]\n"
     ]
    }
   ],
   "source": [
    "A = np.array([[4, 2, 3],\n",
    "              [2, 7, 5.5],\n",
    "              [6, 3, 12.5]], dtype=float)\n",
    "\n",
    "dU = np.array([2, 3, 4])\n",
    "\n",
    "valid = True\n",
    "\n",
    "n = A.shape[0]\n",
    "\n",
    "for k in range(1,n+1):\n",
    "    Ak = A[:k, :k]\n",
    "    det = np.linalg.det(Ak)\n",
    "\n",
    "    if det == 0:\n",
    "        valid = False\n",
    "        print(\"nu se poate calcula o descompunere LU\")\n",
    "\n",
    "        break\n",
    " \n",
    "if valid:\n",
    "    L, U = lu_decomposition(A,dU)\n",
    "\n",
    "print(\"natricea L:\")\n",
    "print(L)\n",
    "print(\"\\nmatricea U:\")\n",
    "print(U)\n",
    "\n",
    "LU = np.dot(L, U)\n",
    "print(\"\\nverificare A = LU:\")\n",
    "print(LU)\n",
    "\n",
    "print(\"\\ndU =\", dU.tolist())"
   ]
  }
 ],
 "metadata": {
  "kernelspec": {
   "display_name": "Python 3",
   "language": "python",
   "name": "python3"
  },
  "language_info": {
   "codemirror_mode": {
    "name": "ipython",
    "version": 3
   },
   "file_extension": ".py",
   "mimetype": "text/x-python",
   "name": "python",
   "nbconvert_exporter": "python",
   "pygments_lexer": "ipython3",
   "version": "3.12.6"
  },
  "orig_nbformat": 4
 },
 "nbformat": 4,
 "nbformat_minor": 2
}
