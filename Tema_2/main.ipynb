{
 "cells": [
  {
   "cell_type": "code",
   "execution_count": 1,
   "metadata": {},
   "outputs": [],
   "source": [
    "import numpy as np"
   ]
  },
  {
   "cell_type": "markdown",
   "metadata": {},
   "source": [
    "### Descompunere LU \n",
    "- Cand U are 1 pe diag pp\n",
    "- Fara vector dU"
   ]
  },
  {
   "cell_type": "code",
   "execution_count": 46,
   "metadata": {},
   "outputs": [
    {
     "ename": "ValueError",
     "evalue": "am gasit un minor cu det=0, deci nu se poate continua cu LU",
     "output_type": "error",
     "traceback": [
      "\u001b[0;31m---------------------------------------------------------------------------\u001b[0m",
      "\u001b[0;31mValueError\u001b[0m                                Traceback (most recent call last)",
      "\u001b[1;32m/Users/user/Documents/GitHub/Calcul-Numeric/Tema_2/main.ipynb Cell 3\u001b[0m line \u001b[0;36m2\n\u001b[1;32m     <a href='vscode-notebook-cell:/Users/user/Documents/GitHub/Calcul-Numeric/Tema_2/main.ipynb#X10sZmlsZQ%3D%3D?line=18'>19</a>\u001b[0m     \u001b[39mreturn\u001b[39;00m L, U\n\u001b[1;32m     <a href='vscode-notebook-cell:/Users/user/Documents/GitHub/Calcul-Numeric/Tema_2/main.ipynb#X10sZmlsZQ%3D%3D?line=20'>21</a>\u001b[0m A \u001b[39m=\u001b[39m np\u001b[39m.\u001b[39marray([[\u001b[39m4\u001b[39m, \u001b[39m4\u001b[39m, \u001b[39m3\u001b[39m],\n\u001b[1;32m     <a href='vscode-notebook-cell:/Users/user/Documents/GitHub/Calcul-Numeric/Tema_2/main.ipynb#X10sZmlsZQ%3D%3D?line=21'>22</a>\u001b[0m               [\u001b[39m2\u001b[39m, \u001b[39m2\u001b[39m, \u001b[39m5.5\u001b[39m],\n\u001b[1;32m     <a href='vscode-notebook-cell:/Users/user/Documents/GitHub/Calcul-Numeric/Tema_2/main.ipynb#X10sZmlsZQ%3D%3D?line=22'>23</a>\u001b[0m               [\u001b[39m6\u001b[39m, \u001b[39m3\u001b[39m, \u001b[39m12.5\u001b[39m]], dtype\u001b[39m=\u001b[39m\u001b[39mfloat\u001b[39m)\n\u001b[0;32m---> <a href='vscode-notebook-cell:/Users/user/Documents/GitHub/Calcul-Numeric/Tema_2/main.ipynb#X10sZmlsZQ%3D%3D?line=24'>25</a>\u001b[0m L, U \u001b[39m=\u001b[39m lu_decomposition_v1(A)\n\u001b[1;32m     <a href='vscode-notebook-cell:/Users/user/Documents/GitHub/Calcul-Numeric/Tema_2/main.ipynb#X10sZmlsZQ%3D%3D?line=26'>27</a>\u001b[0m \u001b[39mprint\u001b[39m(\u001b[39m\"\u001b[39m\u001b[39mMatricea L:\u001b[39m\u001b[39m\"\u001b[39m)\n\u001b[1;32m     <a href='vscode-notebook-cell:/Users/user/Documents/GitHub/Calcul-Numeric/Tema_2/main.ipynb#X10sZmlsZQ%3D%3D?line=27'>28</a>\u001b[0m \u001b[39mprint\u001b[39m(L)\n",
      "\u001b[1;32m/Users/user/Documents/GitHub/Calcul-Numeric/Tema_2/main.ipynb Cell 3\u001b[0m line \u001b[0;36m1\n\u001b[1;32m     <a href='vscode-notebook-cell:/Users/user/Documents/GitHub/Calcul-Numeric/Tema_2/main.ipynb#X10sZmlsZQ%3D%3D?line=13'>14</a>\u001b[0m         sum_u \u001b[39m=\u001b[39m \u001b[39msum\u001b[39m(L[p, k] \u001b[39m*\u001b[39m U[k, i] \u001b[39mfor\u001b[39;00m k \u001b[39min\u001b[39;00m \u001b[39mrange\u001b[39m(p))\n\u001b[1;32m     <a href='vscode-notebook-cell:/Users/user/Documents/GitHub/Calcul-Numeric/Tema_2/main.ipynb#X10sZmlsZQ%3D%3D?line=14'>15</a>\u001b[0m         \u001b[39mif\u001b[39;00m L[p, p] \u001b[39m==\u001b[39m \u001b[39m0\u001b[39m:\n\u001b[0;32m---> <a href='vscode-notebook-cell:/Users/user/Documents/GitHub/Calcul-Numeric/Tema_2/main.ipynb#X10sZmlsZQ%3D%3D?line=15'>16</a>\u001b[0m             \u001b[39mraise\u001b[39;00m \u001b[39mValueError\u001b[39;00m(\u001b[39m\"\u001b[39m\u001b[39mam gasit un minor cu det=0, deci nu se poate continua cu LU\u001b[39m\u001b[39m\"\u001b[39m)\n\u001b[1;32m     <a href='vscode-notebook-cell:/Users/user/Documents/GitHub/Calcul-Numeric/Tema_2/main.ipynb#X10sZmlsZQ%3D%3D?line=16'>17</a>\u001b[0m         U[p, i] \u001b[39m=\u001b[39m (A[p, i] \u001b[39m-\u001b[39m sum_u) \u001b[39m/\u001b[39m L[p, p]\n\u001b[1;32m     <a href='vscode-notebook-cell:/Users/user/Documents/GitHub/Calcul-Numeric/Tema_2/main.ipynb#X10sZmlsZQ%3D%3D?line=18'>19</a>\u001b[0m \u001b[39mreturn\u001b[39;00m L, U\n",
      "\u001b[0;31mValueError\u001b[0m: am gasit un minor cu det=0, deci nu se poate continua cu LU"
     ]
    }
   ],
   "source": [
    "import numpy as np\n",
    "\n",
    "def lu_decomposition_v1(A):\n",
    "    n = A.shape[0]\n",
    "    L = np.zeros((n, n))\n",
    "    U = np.eye(n)\n",
    "    \n",
    "    for p in range(n):\n",
    "        for i in range(p, n):\n",
    "            sum_l = sum(L[i, k] * U[k, p] for k in range(p))\n",
    "            L[i, p] = A[i, p] - sum_l\n",
    "        \n",
    "        for i in range(p + 1, n):\n",
    "            sum_u = sum(L[p, k] * U[k, i] for k in range(p))\n",
    "            if L[p, p] == 0:\n",
    "                raise ValueError(\"am gasit un minor cu det=0, deci nu se poate continua cu LU\")\n",
    "            U[p, i] = (A[p, i] - sum_u) / L[p, p]\n",
    "    \n",
    "    return L, U\n",
    "\n",
    "A = np.array([[4, 4, 3],\n",
    "              [2, 2, 5.5],\n",
    "              [6, 3, 12.5]], dtype=float)\n",
    "\n",
    "L, U = lu_decomposition_v1(A)\n",
    "\n",
    "print(\"Matricea L:\")\n",
    "print(L)\n",
    "print(\"\\nMatricea U:\")\n",
    "print(U)\n",
    "\n",
    "print(\"\\nVerificare A = LU:\")\n",
    "print(np.dot(L, U))\n"
   ]
  },
  {
   "cell_type": "code",
   "execution_count": 38,
   "metadata": {},
   "outputs": [],
   "source": [
    "def lu_decomposition(A, dU=None):\n",
    "    n = A.shape[0]\n",
    "    \n",
    "    if dU is None:\n",
    "        dU = np.ones(n)\n",
    "    \n",
    "    L = np.zeros((n, n))\n",
    "    U = np.zeros((n, n))\n",
    "    \n",
    "    for i in range(n):\n",
    "        U[i, i] = dU[i]\n",
    "    \n",
    "    L[0, 0] = A[0, 0] / U[0, 0]\n",
    "    \n",
    "    for j in range(1, n):\n",
    "        U[0, j] = A[0, j] / L[0, 0]\n",
    "    \n",
    "    for i in range(1, n):\n",
    "        L[i, 0] = A[i, 0] / U[0, 0]\n",
    "    \n",
    "    for p in range(1, n):\n",
    "        sum_l = 0\n",
    "        for k in range(p):\n",
    "            sum_l += L[p, k] * U[k, p]\n",
    "        L[p, p] = (A[p, p] - sum_l) / U[p, p]  \n",
    "        # L[1,1] = (7-1*1)/3 = 2\n",
    "        # L[2,2] = (12.5-3*0)/4 = 3.125\n",
    "        \n",
    "        for j in range(p+1, n):\n",
    "            sum_u = 0\n",
    "            for k in range(p):\n",
    "                sum_u += L[p, k] * U[k, j]\n",
    "            U[p, j] = (A[p, j] - sum_u) / L[p, p]\n",
    "    \n",
    "        for i in range(p+1, n):\n",
    "            sum_l = 0\n",
    "            for k in range(p):\n",
    "                sum_l += L[i, k] * U[k, p]\n",
    "            L[i, p] = (A[i, p] - sum_l) / U[p, p]\n",
    "    \n",
    "    return L, U"
   ]
  },
  {
   "cell_type": "code",
   "execution_count": 39,
   "metadata": {},
   "outputs": [
    {
     "name": "stdout",
     "output_type": "stream",
     "text": [
      "Matricea L:\n",
      "[[2. 0. 0.]\n",
      " [1. 2. 0.]\n",
      " [3. 0. 2.]]\n",
      "\n",
      "Matricea U:\n",
      "[[2.  1.  1.5]\n",
      " [0.  3.  2. ]\n",
      " [0.  0.  4. ]]\n",
      "\n",
      "Verificare A = LU:\n",
      "[[ 4.   2.   3. ]\n",
      " [ 2.   7.   5.5]\n",
      " [ 6.   3.  12.5]]\n",
      "\n",
      "dU = [2, 3, 4]\n"
     ]
    }
   ],
   "source": [
    "A = np.array([[4, 2, 3],\n",
    "              [2, 7, 5.5],\n",
    "              [6, 3, 12.5]], dtype=float)\n",
    "\n",
    "dU = np.array([2, 3, 4])\n",
    "\n",
    "valid = True\n",
    "\n",
    "for k in range(1,n+1):\n",
    "    Ak = A[:k, :k]\n",
    "    det = np.linalg.det(Ak)\n",
    "\n",
    "    if det == 0:\n",
    "        valid = False\n",
    "        print(\"Nu se poate calcula o descompunere LU\")\n",
    "\n",
    "        break\n",
    " \n",
    "if valid:\n",
    "    L, U = lu_decomposition(A,dU)\n",
    "\n",
    "print(\"Matricea L:\")\n",
    "print(L)\n",
    "print(\"\\nMatricea U:\")\n",
    "print(U)\n",
    "\n",
    "LU = np.dot(L, U)\n",
    "print(\"\\nVerificare A = LU:\")\n",
    "print(LU)\n",
    "\n",
    "print(\"\\ndU =\", dU.tolist())"
   ]
  }
 ],
 "metadata": {
  "kernelspec": {
   "display_name": "Python 3",
   "language": "python",
   "name": "python3"
  },
  "language_info": {
   "codemirror_mode": {
    "name": "ipython",
    "version": 3
   },
   "file_extension": ".py",
   "mimetype": "text/x-python",
   "name": "python",
   "nbconvert_exporter": "python",
   "pygments_lexer": "ipython3",
   "version": "3.12.6"
  },
  "orig_nbformat": 4
 },
 "nbformat": 4,
 "nbformat_minor": 2
}
